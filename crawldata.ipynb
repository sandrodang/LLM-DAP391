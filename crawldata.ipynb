{
 "cells": [
  {
   "cell_type": "code",
   "execution_count": 14,
   "metadata": {},
   "outputs": [
    {
     "name": "stdout",
     "output_type": "stream",
     "text": [
      "Dữ liệu từ các file PDF đã được thêm vào file /Users/dangnam/Documents/LLM-DAP391/data_processed.csv\n"
     ]
    }
   ],
   "source": [
    "import csv\n",
    "import pdfplumber\n",
    "\n",
    "# Đường dẫn đến file PDF\n",
    "pdf_files = ['/Users/dangnam/Downloads/5.pdf']\n",
    "# Đường dẫn đến file CSV để ghi dữ liệu\n",
    "csv_path = '/Users/dangnam/Documents/LLM-DAP391/data_processed.csv'\n",
    "\n",
    "# Hàm để trích xuất văn bản từ file PDF\n",
    "def extract_text_from_pdf(pdf_file):\n",
    "    text = \"\"\n",
    "    with pdfplumber.open(pdf_file) as pdf:\n",
    "        for page in pdf.pages:\n",
    "            text += page.extract_text()\n",
    "            text.lower()\n",
    "    return text\n",
    "\n",
    "# Hàm để ghi văn bản vào file CSV (chế độ 'a' để thêm dữ liệu)\n",
    "def append_text_to_csv(text, csv_file):\n",
    "    lines = text.lower().split('\\n')\n",
    "    with open(csv_file, mode='a', newline='', encoding='utf-8') as file:\n",
    "        writer = csv.writer(file)\n",
    "        for line in lines:\n",
    "            writer.writerow([line])\n",
    "\n",
    "# Duyệt qua từng file PDF và ghi dữ liệu vào file CSV\n",
    "for pdf_file in pdf_files: \n",
    "    pdf_text = extract_text_from_pdf(pdf_file)\n",
    "    append_text_to_csv(pdf_text, csv_path)\n",
    "\n",
    "print(f\"Dữ liệu từ các file PDF đã được thêm vào file {csv_path}\")\n"
   ]
  },
  {
   "cell_type": "code",
   "execution_count": 19,
   "metadata": {},
   "outputs": [
    {
     "name": "stdout",
     "output_type": "stream",
     "text": [
      "Xử lý và ghi dữ liệu vào file CSV thành công!\n"
     ]
    }
   ],
   "source": [
    "import csv \n",
    "import string\n",
    "import re\n",
    "\n",
    "# Đường dẫn tới file CSV của bạn\n",
    "input_file  = '/Users/dangnam/Documents/LLM-DAP391/data.csv'\n",
    "output_file = '/Users/dangnam/Documents/LLM-DAP391/data_processed.csv'\n",
    "\n",
    "# Các ký tự dấu câu và số cần loại bỏ\n",
    "PUNCT_TO_REMOVE = string.punctuation + string.digits\n",
    "\n",
    "def remove_punctuation(text):\n",
    "    # Duyệt qua từng ký tự và loại bỏ các dấu câu, số\n",
    "    for token in PUNCT_TO_REMOVE:\n",
    "        text = text.replace(token, '')  # Loại bỏ từng ký tự trong PUNCT_TO_REMOVE khỏi text\n",
    "    return text\n",
    "\n",
    "def remove_special_characters(text):\n",
    "    # Loại bỏ các ký tự đặc biệt cụ thể\n",
    "    text = re.sub(\"[-,?]\", '', text)\n",
    "    return text\n",
    "\n",
    "# Mở file và đọc nội dung\n",
    "with open(input_file, mode='r', encoding='utf-8') as infile, \\\n",
    "     open(output_file, mode='w', encoding='utf-8', newline='') as outfile:\n",
    "    \n",
    "    # Đọc dữ liệu từ file CSV gốc\n",
    "    reader = csv.reader(infile)\n",
    "    # Tạo đối tượng writer để ghi dữ liệu vào file CSV mới\n",
    "    writer = csv.writer(outfile)\n",
    "    \n",
    "    # Duyệt qua từng dòng trong file CSV\n",
    "    for row in reader:\n",
    "        # Xử lý từng ô trong dòng bằng cách loại bỏ ký tự đặc biệt và số\n",
    "        processed_row = [remove_punctuation(cell) for cell in row]\n",
    "        processed_row = [remove_special_characters(cell) for cell in processed_row]\n",
    "        \n",
    "        # Ghi dòng đã xử lý vào file CSV đầu ra\n",
    "        writer.writerow(processed_row)\n",
    "\n",
    "print(\"Xử lý và ghi dữ liệu vào file CSV thành công!\")\n"
   ]
  },
  {
   "cell_type": "code",
   "execution_count": 16,
   "metadata": {},
   "outputs": [
    {
     "name": "stdout",
     "output_type": "stream",
     "text": [
      "“Các nhà triết học đã chỉ giải thích thế giới bằng nhiều cách khác nhau, song vấn đề là cải tạo thế giới”, Marx viết trong Luận cương về Feuerbach. Đây là tiền đề cơ bản của việc theo đuổi triết học của Marx và người đồng chí của ông - Friedrich Engels.\n"
     ]
    }
   ],
   "source": [
    "text = '“Các nhà triết học đã chỉ giải thích thế giới bằng nhiều cách khác nhau, song vấn đề là cải tạo thế giới”, Marx viết trong Luận cương về Feuerbach. Đây là tiền đề cơ bản của việc theo đuổi triết học của Marx và người đồng chí của ông - Friedrich Engels.'\n",
    "text.lower()\n",
    "print(text)\n"
   ]
  },
  {
   "cell_type": "code",
   "execution_count": null,
   "metadata": {},
   "outputs": [],
   "source": []
  }
 ],
 "metadata": {
  "kernelspec": {
   "display_name": "Python 3",
   "language": "python",
   "name": "python3"
  },
  "language_info": {
   "codemirror_mode": {
    "name": "ipython",
    "version": 3
   },
   "file_extension": ".py",
   "mimetype": "text/x-python",
   "name": "python",
   "nbconvert_exporter": "python",
   "pygments_lexer": "ipython3",
   "version": "3.11.4"
  },
  "orig_nbformat": 4
 },
 "nbformat": 4,
 "nbformat_minor": 2
}
