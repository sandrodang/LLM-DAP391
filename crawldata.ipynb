{
 "cells": [
  {
   "cell_type": "code",
   "execution_count": 6,
   "metadata": {},
   "outputs": [
    {
     "name": "stdout",
     "output_type": "stream",
     "text": [
      "Dữ liệu từ các file PDF đã được thêm vào file /Users/dangnam/Documents/LLM-DAP391/data.csv\n"
     ]
    }
   ],
   "source": [
    "import csv\n",
    "import pdfplumber\n",
    "\n",
    "# Đường dẫn đến file PDF\n",
    "pdf_files = ['/Users/dangnam/Downloads/Cau_hoi_trac_nghiem_va_co_tra_loi_mac_le.pdf', '/Users/dangnam/Downloads/Cau_hoi_trac_nghiem_va_co_tra_loi_mac_le.pdf']\n",
    "# Đường dẫn đến file CSV để ghi dữ liệu\n",
    "csv_path = '/Users/dangnam/Documents/LLM-DAP391/data.csv'\n",
    "\n",
    "# Hàm để trích xuất văn bản từ file PDF\n",
    "def extract_text_from_pdf(pdf_file):\n",
    "    text = \"\"\n",
    "    with pdfplumber.open(pdf_file) as pdf:\n",
    "        for page in pdf.pages:\n",
    "            text += page.extract_text()\n",
    "    return text\n",
    "\n",
    "# Hàm để ghi văn bản vào file CSV (chế độ 'a' để thêm dữ liệu)\n",
    "def append_text_to_csv(text, csv_file):\n",
    "    lines = text.split('\\n')\n",
    "    with open(csv_file, mode='a', newline='', encoding='utf-8') as file:\n",
    "        writer = csv.writer(file)\n",
    "        for line in lines:\n",
    "            writer.writerow([line])\n",
    "\n",
    "# Duyệt qua từng file PDF và ghi dữ liệu vào file CSV\n",
    "for pdf_file in pdf_files:\n",
    "    pdf_text = extract_text_from_pdf(pdf_file)\n",
    "    append_text_to_csv(pdf_text, csv_path)\n",
    "\n",
    "print(f\"Dữ liệu từ các file PDF đã được thêm vào file {csv_path}\")\n"
   ]
  },
  {
   "cell_type": "code",
   "execution_count": null,
   "metadata": {},
   "outputs": [],
   "source": []
  },
  {
   "cell_type": "code",
   "execution_count": null,
   "metadata": {},
   "outputs": [],
   "source": []
  }
 ],
 "metadata": {
  "kernelspec": {
   "display_name": "Python 3",
   "language": "python",
   "name": "python3"
  },
  "language_info": {
   "codemirror_mode": {
    "name": "ipython",
    "version": 3
   },
   "file_extension": ".py",
   "mimetype": "text/x-python",
   "name": "python",
   "nbconvert_exporter": "python",
   "pygments_lexer": "ipython3",
   "version": "3.11.4"
  },
  "orig_nbformat": 4
 },
 "nbformat": 4,
 "nbformat_minor": 2
}
